{
 "cells": [
  {
   "cell_type": "markdown",
   "metadata": {
    "collapsed": true
   },
   "source": [
    "# Get nearest station by haversine formula\n",
    "\n",
    "reference:http://stackoverflow.com/questions/4913349/haversine-formula-in-python-bearing-and-distance-between-two-gps-points"
   ]
  },
  {
   "cell_type": "code",
   "execution_count": 1,
   "metadata": {},
   "outputs": [
    {
     "name": "stdout",
     "output_type": "stream",
     "text": [
      "station: 東京駅\ndistance(km): 0.237\nwalk minutes: 3.0\n"
     ]
    }
   ],
   "source": [
    "from math import radians, cos, sin, asin, sqrt\n",
    "\n",
    "\n",
    "def haversine(lon1, lat1, lon2, lat2):\n",
    "    \"\"\"\n",
    "    Calculate the great circle distance between two points \n",
    "    on the earth (specified in decimal degrees)\n",
    "    \"\"\"\n",
    "    # convert decimal degrees to radians \n",
    "    lon1, lat1, lon2, lat2 = map(radians, [lon1, lat1, lon2, lat2])\n",
    "\n",
    "    # haversine formula \n",
    "    dlon = lon2 - lon1 \n",
    "    dlat = lat2 - lat1 \n",
    "    a = sin(dlat/2)**2 + cos(lat1) * cos(lat2) * sin(dlon/2)**2\n",
    "    c = 2 * asin(sqrt(a)) \n",
    "    r = 6371 # Radius of earth in kilometers. Use 3956 for miles\n",
    "    return c * r\n",
    "\n",
    "\n",
    "def load_station_information():\n",
    "    name_l = []\n",
    "    lat_l = []\n",
    "    lon_l = []\n",
    "    with open('input/train_station_locate_jpn.tsv') as reader:\n",
    "        reader.readline()\n",
    "        for line in reader:\n",
    "            token = line.rstrip().split('\\t')\n",
    "            lat_l.append(float(token[0]))\n",
    "            lon_l.append(float(token[1]))\n",
    "            name_l.append(token[2])\n",
    "    return zip(lat_l, lon_l, name_l)\n",
    "\n",
    "\n",
    "def get_nearest_station(lat, lon, info):\n",
    "    minD = 999999\n",
    "    minName = '-'\n",
    "    for x_lat, x_lon, x_name in info:\n",
    "        d = haversine(lon, lat, x_lon, x_lat)\n",
    "        if d < minD:\n",
    "            minD = d\n",
    "            minName = x_name\n",
    "    print('station:', minName) \n",
    "    print('distance(km):', round(minD, 3))\n",
    "    print('walk minutes:', round(minD/0.08, 1))\n",
    "    \n",
    "if __name__ == '__main__':\n",
    "    lat = 35.6798992\n",
    "    lon = 139.766043\n",
    "    train_info = load_station_information()\n",
    "    get_nearest_station(lat, lon, train_info)"
   ]
  }
 ],
 "metadata": {
  "kernelspec": {
   "display_name": "Python 2",
   "language": "python",
   "name": "python2"
  },
  "language_info": {
   "codemirror_mode": {
    "name": "ipython",
    "version": 2.0
   },
   "file_extension": ".py",
   "mimetype": "text/x-python",
   "name": "python",
   "nbconvert_exporter": "python",
   "pygments_lexer": "ipython2",
   "version": "2.7.6"
  }
 },
 "nbformat": 4,
 "nbformat_minor": 0
}